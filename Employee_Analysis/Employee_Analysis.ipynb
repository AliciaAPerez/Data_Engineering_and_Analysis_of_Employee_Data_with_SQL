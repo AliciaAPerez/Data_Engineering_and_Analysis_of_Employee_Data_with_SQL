{
 "cells": [
  {
   "cell_type": "markdown",
   "metadata": {},
   "source": [
    "# Employee Analysis using Employee Database from SQL"
   ]
  },
  {
   "cell_type": "markdown",
   "metadata": {},
   "source": [
    "## Using SQLAlechemy analyze the data from SQL"
   ]
  },
  {
   "cell_type": "code",
   "execution_count": 1,
   "metadata": {},
   "outputs": [],
   "source": [
    "# import sqlachemy\n",
    "import sqlalchemy\n",
    "from sqlalchemy.ext.automap import automap_base\n",
    "from sqlalchemy.orm import Session\n",
    "from sqlalchemy import create_engine, inspect, func\n",
    "from config import key"
   ]
  },
  {
   "cell_type": "code",
   "execution_count": 2,
   "metadata": {},
   "outputs": [],
   "source": [
    "#set up connection to SQL database\n",
    "engine = create_engine(f'postgresql://{key}localhost:5432/employee_DB')\n",
    "connection = engine.connect()"
   ]
  },
  {
   "cell_type": "code",
   "execution_count": 3,
   "metadata": {},
   "outputs": [],
   "source": [
    "# Import Matplot lib and pandas\n",
    "import matplotlib\n",
    "from matplotlib import style\n",
    "style.use('seaborn')\n",
    "import matplotlib.pyplot as plt\n",
    "import pandas as pd\n",
    "import numpy as np"
   ]
  },
  {
   "cell_type": "markdown",
   "metadata": {},
   "source": [
    "### Table Names"
   ]
  },
  {
   "cell_type": "code",
   "execution_count": 4,
   "metadata": {},
   "outputs": [
    {
     "data": {
      "text/plain": [
       "['titles',\n",
       " 'employees',\n",
       " 'departments',\n",
       " 'dept_manager',\n",
       " 'dept_employee',\n",
       " 'salaries']"
      ]
     },
     "execution_count": 4,
     "metadata": {},
     "output_type": "execute_result"
    }
   ],
   "source": [
    "# get table names for database\n",
    "inspector = inspect(engine)\n",
    "table_names = inspector.get_table_names()\n",
    "table_names"
   ]
  },
  {
   "cell_type": "markdown",
   "metadata": {},
   "source": [
    "### Column Names for each table"
   ]
  },
  {
   "cell_type": "code",
   "execution_count": 5,
   "metadata": {},
   "outputs": [
    {
     "name": "stdout",
     "output_type": "stream",
     "text": [
      "...\n",
      "Table: titles\n",
      "title_id VARCHAR(5)\n",
      "title VARCHAR(20)\n",
      "...\n",
      "Table: employees\n",
      "employee_number INTEGER\n",
      "title_id VARCHAR(5)\n",
      "birth_date DATE\n",
      "first_name VARCHAR(30)\n",
      "last_name VARCHAR(30)\n",
      "sex VARCHAR(1)\n",
      "hire_date DATE\n",
      "...\n",
      "Table: departments\n",
      "dept_number VARCHAR(4)\n",
      "dept_name VARCHAR(20)\n",
      "...\n",
      "Table: dept_manager\n",
      "dept_number VARCHAR(5)\n",
      "employee_number INTEGER\n",
      "...\n",
      "Table: dept_employee\n",
      "employee_number INTEGER\n",
      "dept_number VARCHAR(5)\n",
      "...\n",
      "Table: salaries\n",
      "employee_number INTEGER\n",
      "salary INTEGER\n"
     ]
    }
   ],
   "source": [
    "# get column names and data types for each table\n",
    "for t in table_names:\n",
    "    columns = inspector.get_columns(t)\n",
    "    print(\"...\")\n",
    "    print(f\"Table: {t}\")\n",
    "    for c in columns:\n",
    "        print(c['name'], c[\"type\"])"
   ]
  },
  {
   "cell_type": "markdown",
   "metadata": {},
   "source": [
    "### DataFrames for 3 Tables"
   ]
  },
  {
   "cell_type": "markdown",
   "metadata": {},
   "source": [
    "#### Titles Table Dataframe"
   ]
  },
  {
   "cell_type": "code",
   "execution_count": 6,
   "metadata": {},
   "outputs": [
    {
     "data": {
      "text/html": [
       "<div>\n",
       "<style scoped>\n",
       "    .dataframe tbody tr th:only-of-type {\n",
       "        vertical-align: middle;\n",
       "    }\n",
       "\n",
       "    .dataframe tbody tr th {\n",
       "        vertical-align: top;\n",
       "    }\n",
       "\n",
       "    .dataframe thead th {\n",
       "        text-align: right;\n",
       "    }\n",
       "</style>\n",
       "<table border=\"1\" class=\"dataframe\">\n",
       "  <thead>\n",
       "    <tr style=\"text-align: right;\">\n",
       "      <th></th>\n",
       "      <th>title_id</th>\n",
       "      <th>title</th>\n",
       "    </tr>\n",
       "  </thead>\n",
       "  <tbody>\n",
       "    <tr>\n",
       "      <th>0</th>\n",
       "      <td>s0001</td>\n",
       "      <td>Staff</td>\n",
       "    </tr>\n",
       "    <tr>\n",
       "      <th>1</th>\n",
       "      <td>s0002</td>\n",
       "      <td>Senior Staff</td>\n",
       "    </tr>\n",
       "    <tr>\n",
       "      <th>2</th>\n",
       "      <td>e0001</td>\n",
       "      <td>Assistant Engineer</td>\n",
       "    </tr>\n",
       "    <tr>\n",
       "      <th>3</th>\n",
       "      <td>e0002</td>\n",
       "      <td>Engineer</td>\n",
       "    </tr>\n",
       "    <tr>\n",
       "      <th>4</th>\n",
       "      <td>e0003</td>\n",
       "      <td>Senior Engineer</td>\n",
       "    </tr>\n",
       "    <tr>\n",
       "      <th>5</th>\n",
       "      <td>e0004</td>\n",
       "      <td>Technique Leader</td>\n",
       "    </tr>\n",
       "    <tr>\n",
       "      <th>6</th>\n",
       "      <td>m0001</td>\n",
       "      <td>Manager</td>\n",
       "    </tr>\n",
       "  </tbody>\n",
       "</table>\n",
       "</div>"
      ],
      "text/plain": [
       "  title_id               title\n",
       "0    s0001               Staff\n",
       "1    s0002        Senior Staff\n",
       "2    e0001  Assistant Engineer\n",
       "3    e0002            Engineer\n",
       "4    e0003     Senior Engineer\n",
       "5    e0004    Technique Leader\n",
       "6    m0001             Manager"
      ]
     },
     "execution_count": 6,
     "metadata": {},
     "output_type": "execute_result"
    }
   ],
   "source": [
    "# make data frame for titles table\n",
    "Titles = pd.read_sql(\"SELECT * FROM titles\", connection)\n",
    "Titles"
   ]
  },
  {
   "cell_type": "markdown",
   "metadata": {},
   "source": [
    "#### Employees Table Dataframe"
   ]
  },
  {
   "cell_type": "code",
   "execution_count": 7,
   "metadata": {},
   "outputs": [
    {
     "data": {
      "text/html": [
       "<div>\n",
       "<style scoped>\n",
       "    .dataframe tbody tr th:only-of-type {\n",
       "        vertical-align: middle;\n",
       "    }\n",
       "\n",
       "    .dataframe tbody tr th {\n",
       "        vertical-align: top;\n",
       "    }\n",
       "\n",
       "    .dataframe thead th {\n",
       "        text-align: right;\n",
       "    }\n",
       "</style>\n",
       "<table border=\"1\" class=\"dataframe\">\n",
       "  <thead>\n",
       "    <tr style=\"text-align: right;\">\n",
       "      <th></th>\n",
       "      <th>employee_number</th>\n",
       "      <th>title_id</th>\n",
       "      <th>birth_date</th>\n",
       "      <th>first_name</th>\n",
       "      <th>last_name</th>\n",
       "      <th>sex</th>\n",
       "      <th>hire_date</th>\n",
       "    </tr>\n",
       "  </thead>\n",
       "  <tbody>\n",
       "    <tr>\n",
       "      <th>0</th>\n",
       "      <td>473302</td>\n",
       "      <td>s0001</td>\n",
       "      <td>1953-07-25</td>\n",
       "      <td>Hideyuki</td>\n",
       "      <td>Zallocco</td>\n",
       "      <td>M</td>\n",
       "      <td>1990-04-28</td>\n",
       "    </tr>\n",
       "    <tr>\n",
       "      <th>1</th>\n",
       "      <td>475053</td>\n",
       "      <td>e0002</td>\n",
       "      <td>1954-11-18</td>\n",
       "      <td>Byong</td>\n",
       "      <td>Delgrande</td>\n",
       "      <td>F</td>\n",
       "      <td>1991-09-07</td>\n",
       "    </tr>\n",
       "    <tr>\n",
       "      <th>2</th>\n",
       "      <td>57444</td>\n",
       "      <td>e0002</td>\n",
       "      <td>1958-01-30</td>\n",
       "      <td>Berry</td>\n",
       "      <td>Babb</td>\n",
       "      <td>F</td>\n",
       "      <td>1992-03-21</td>\n",
       "    </tr>\n",
       "    <tr>\n",
       "      <th>3</th>\n",
       "      <td>421786</td>\n",
       "      <td>s0001</td>\n",
       "      <td>1957-09-28</td>\n",
       "      <td>Xiong</td>\n",
       "      <td>Verhoeff</td>\n",
       "      <td>M</td>\n",
       "      <td>1987-11-26</td>\n",
       "    </tr>\n",
       "    <tr>\n",
       "      <th>4</th>\n",
       "      <td>282238</td>\n",
       "      <td>e0003</td>\n",
       "      <td>1952-10-28</td>\n",
       "      <td>Abdelkader</td>\n",
       "      <td>Baumann</td>\n",
       "      <td>F</td>\n",
       "      <td>1991-01-18</td>\n",
       "    </tr>\n",
       "    <tr>\n",
       "      <th>...</th>\n",
       "      <td>...</td>\n",
       "      <td>...</td>\n",
       "      <td>...</td>\n",
       "      <td>...</td>\n",
       "      <td>...</td>\n",
       "      <td>...</td>\n",
       "      <td>...</td>\n",
       "    </tr>\n",
       "    <tr>\n",
       "      <th>300019</th>\n",
       "      <td>464231</td>\n",
       "      <td>s0001</td>\n",
       "      <td>1958-08-14</td>\n",
       "      <td>Constantino</td>\n",
       "      <td>Eastman</td>\n",
       "      <td>M</td>\n",
       "      <td>1988-10-28</td>\n",
       "    </tr>\n",
       "    <tr>\n",
       "      <th>300020</th>\n",
       "      <td>255832</td>\n",
       "      <td>e0002</td>\n",
       "      <td>1955-05-08</td>\n",
       "      <td>Yuping</td>\n",
       "      <td>Dayang</td>\n",
       "      <td>F</td>\n",
       "      <td>1995-02-26</td>\n",
       "    </tr>\n",
       "    <tr>\n",
       "      <th>300021</th>\n",
       "      <td>76671</td>\n",
       "      <td>s0001</td>\n",
       "      <td>1959-06-09</td>\n",
       "      <td>Ortrud</td>\n",
       "      <td>Plessier</td>\n",
       "      <td>M</td>\n",
       "      <td>1988-02-24</td>\n",
       "    </tr>\n",
       "    <tr>\n",
       "      <th>300022</th>\n",
       "      <td>264920</td>\n",
       "      <td>s0001</td>\n",
       "      <td>1959-09-22</td>\n",
       "      <td>Percy</td>\n",
       "      <td>Samarati</td>\n",
       "      <td>F</td>\n",
       "      <td>1994-09-08</td>\n",
       "    </tr>\n",
       "    <tr>\n",
       "      <th>300023</th>\n",
       "      <td>464503</td>\n",
       "      <td>s0002</td>\n",
       "      <td>1964-05-31</td>\n",
       "      <td>Arvind</td>\n",
       "      <td>Slobodova</td>\n",
       "      <td>M</td>\n",
       "      <td>1987-11-23</td>\n",
       "    </tr>\n",
       "  </tbody>\n",
       "</table>\n",
       "<p>300024 rows × 7 columns</p>\n",
       "</div>"
      ],
      "text/plain": [
       "        employee_number title_id  birth_date   first_name  last_name sex  \\\n",
       "0                473302    s0001  1953-07-25     Hideyuki   Zallocco   M   \n",
       "1                475053    e0002  1954-11-18        Byong  Delgrande   F   \n",
       "2                 57444    e0002  1958-01-30        Berry       Babb   F   \n",
       "3                421786    s0001  1957-09-28        Xiong   Verhoeff   M   \n",
       "4                282238    e0003  1952-10-28   Abdelkader    Baumann   F   \n",
       "...                 ...      ...         ...          ...        ...  ..   \n",
       "300019           464231    s0001  1958-08-14  Constantino    Eastman   M   \n",
       "300020           255832    e0002  1955-05-08       Yuping     Dayang   F   \n",
       "300021            76671    s0001  1959-06-09       Ortrud   Plessier   M   \n",
       "300022           264920    s0001  1959-09-22        Percy   Samarati   F   \n",
       "300023           464503    s0002  1964-05-31       Arvind  Slobodova   M   \n",
       "\n",
       "         hire_date  \n",
       "0       1990-04-28  \n",
       "1       1991-09-07  \n",
       "2       1992-03-21  \n",
       "3       1987-11-26  \n",
       "4       1991-01-18  \n",
       "...            ...  \n",
       "300019  1988-10-28  \n",
       "300020  1995-02-26  \n",
       "300021  1988-02-24  \n",
       "300022  1994-09-08  \n",
       "300023  1987-11-23  \n",
       "\n",
       "[300024 rows x 7 columns]"
      ]
     },
     "execution_count": 7,
     "metadata": {},
     "output_type": "execute_result"
    }
   ],
   "source": [
    "# make data frame for employees table\n",
    "Employees = pd.read_sql(\"SELECT * FROM employees\", connection)\n",
    "Employees"
   ]
  },
  {
   "cell_type": "markdown",
   "metadata": {},
   "source": [
    "#### Salary Table DataFrame"
   ]
  },
  {
   "cell_type": "code",
   "execution_count": 8,
   "metadata": {},
   "outputs": [
    {
     "data": {
      "text/html": [
       "<div>\n",
       "<style scoped>\n",
       "    .dataframe tbody tr th:only-of-type {\n",
       "        vertical-align: middle;\n",
       "    }\n",
       "\n",
       "    .dataframe tbody tr th {\n",
       "        vertical-align: top;\n",
       "    }\n",
       "\n",
       "    .dataframe thead th {\n",
       "        text-align: right;\n",
       "    }\n",
       "</style>\n",
       "<table border=\"1\" class=\"dataframe\">\n",
       "  <thead>\n",
       "    <tr style=\"text-align: right;\">\n",
       "      <th></th>\n",
       "      <th>employee_number</th>\n",
       "      <th>salary</th>\n",
       "    </tr>\n",
       "  </thead>\n",
       "  <tbody>\n",
       "    <tr>\n",
       "      <th>0</th>\n",
       "      <td>10001</td>\n",
       "      <td>60117</td>\n",
       "    </tr>\n",
       "    <tr>\n",
       "      <th>1</th>\n",
       "      <td>10002</td>\n",
       "      <td>65828</td>\n",
       "    </tr>\n",
       "    <tr>\n",
       "      <th>2</th>\n",
       "      <td>10003</td>\n",
       "      <td>40006</td>\n",
       "    </tr>\n",
       "    <tr>\n",
       "      <th>3</th>\n",
       "      <td>10004</td>\n",
       "      <td>40054</td>\n",
       "    </tr>\n",
       "    <tr>\n",
       "      <th>4</th>\n",
       "      <td>10005</td>\n",
       "      <td>78228</td>\n",
       "    </tr>\n",
       "    <tr>\n",
       "      <th>...</th>\n",
       "      <td>...</td>\n",
       "      <td>...</td>\n",
       "    </tr>\n",
       "    <tr>\n",
       "      <th>300019</th>\n",
       "      <td>499995</td>\n",
       "      <td>40000</td>\n",
       "    </tr>\n",
       "    <tr>\n",
       "      <th>300020</th>\n",
       "      <td>499996</td>\n",
       "      <td>58058</td>\n",
       "    </tr>\n",
       "    <tr>\n",
       "      <th>300021</th>\n",
       "      <td>499997</td>\n",
       "      <td>49597</td>\n",
       "    </tr>\n",
       "    <tr>\n",
       "      <th>300022</th>\n",
       "      <td>499998</td>\n",
       "      <td>40000</td>\n",
       "    </tr>\n",
       "    <tr>\n",
       "      <th>300023</th>\n",
       "      <td>499999</td>\n",
       "      <td>63707</td>\n",
       "    </tr>\n",
       "  </tbody>\n",
       "</table>\n",
       "<p>300024 rows × 2 columns</p>\n",
       "</div>"
      ],
      "text/plain": [
       "        employee_number  salary\n",
       "0                 10001   60117\n",
       "1                 10002   65828\n",
       "2                 10003   40006\n",
       "3                 10004   40054\n",
       "4                 10005   78228\n",
       "...                 ...     ...\n",
       "300019           499995   40000\n",
       "300020           499996   58058\n",
       "300021           499997   49597\n",
       "300022           499998   40000\n",
       "300023           499999   63707\n",
       "\n",
       "[300024 rows x 2 columns]"
      ]
     },
     "execution_count": 8,
     "metadata": {},
     "output_type": "execute_result"
    }
   ],
   "source": [
    "#make data frame for salaries table\n",
    "Salary = pd.read_sql(\"SELECT * FROM salaries\", connection)\n",
    "Salary"
   ]
  },
  {
   "cell_type": "markdown",
   "metadata": {},
   "source": [
    "#### Checking for null/missing values"
   ]
  },
  {
   "cell_type": "code",
   "execution_count": 9,
   "metadata": {},
   "outputs": [
    {
     "data": {
      "text/plain": [
       "title_id    7\n",
       "title       7\n",
       "dtype: int64"
      ]
     },
     "execution_count": 9,
     "metadata": {},
     "output_type": "execute_result"
    }
   ],
   "source": [
    "Titles.count()"
   ]
  },
  {
   "cell_type": "code",
   "execution_count": 10,
   "metadata": {},
   "outputs": [
    {
     "data": {
      "text/plain": [
       "employee_number    300024\n",
       "title_id           300024\n",
       "birth_date         300024\n",
       "first_name         300024\n",
       "last_name          300024\n",
       "sex                300024\n",
       "hire_date          300024\n",
       "dtype: int64"
      ]
     },
     "execution_count": 10,
     "metadata": {},
     "output_type": "execute_result"
    }
   ],
   "source": [
    "Employees.count()"
   ]
  },
  {
   "cell_type": "code",
   "execution_count": 11,
   "metadata": {},
   "outputs": [
    {
     "data": {
      "text/plain": [
       "employee_number    300024\n",
       "salary             300024\n",
       "dtype: int64"
      ]
     },
     "execution_count": 11,
     "metadata": {},
     "output_type": "execute_result"
    }
   ],
   "source": [
    "Salary.count()"
   ]
  },
  {
   "cell_type": "markdown",
   "metadata": {},
   "source": [
    "### Histogram"
   ]
  },
  {
   "cell_type": "markdown",
   "metadata": {},
   "source": [
    "The following figure is a visualization using a histogram for the common salary ranges for employees."
   ]
  },
  {
   "cell_type": "code",
   "execution_count": 12,
   "metadata": {},
   "outputs": [
    {
     "data": {
      "image/png": "[encoded data removed]",
      "text/plain": [
       "<Figure size 432x288 with 1 Axes>"
      ]
     },
     "metadata": {
      "needs_background": "light"
     },
     "output_type": "display_data"
    }
   ],
   "source": [
    "# histogram of most common salary ranges for employees\n",
    "x = Salary[\"salary\"]\n",
    "fig, ax = plt.subplots()\n",
    "ax.hist(x)\n",
    "ax.set_xlabel(\"Salary\")\n",
    "ax.set_ylabel(\"Number of employees\")\n",
    "ax.set_title(\"Common Salary Ranges\")\n",
    "fig.tight_layout()\n",
    "matplotlib.pyplot.savefig(\"Common_Salary_Ranges\")"
   ]
  },
  {
   "cell_type": "markdown",
   "metadata": {},
   "source": [
    "### Average Salary by title"
   ]
  },
  {
   "cell_type": "markdown",
   "metadata": {},
   "source": [
    "In order to get the average salary by title, the three dataframes must be combined. First, the salary and employees dataframes will be merged on their common column of employee_number. Then a groupby function can be used to put the title_ids into separate groups. Then the average is taken for each group. A dataframe is made from that information which then can be combined with the Titles dataframe to get the actual names for each Title and not just the id number. Finally, a graph is made of this information. "
   ]
  },
  {
   "cell_type": "code",
   "execution_count": 13,
   "metadata": {},
   "outputs": [
    {
     "data": {
      "text/html": [
       "<div>\n",
       "<style scoped>\n",
       "    .dataframe tbody tr th:only-of-type {\n",
       "        vertical-align: middle;\n",
       "    }\n",
       "\n",
       "    .dataframe tbody tr th {\n",
       "        vertical-align: top;\n",
       "    }\n",
       "\n",
       "    .dataframe thead th {\n",
       "        text-align: right;\n",
       "    }\n",
       "</style>\n",
       "<table border=\"1\" class=\"dataframe\">\n",
       "  <thead>\n",
       "    <tr style=\"text-align: right;\">\n",
       "      <th></th>\n",
       "      <th>employee_number</th>\n",
       "      <th>title_id</th>\n",
       "      <th>birth_date</th>\n",
       "      <th>first_name</th>\n",
       "      <th>last_name</th>\n",
       "      <th>sex</th>\n",
       "      <th>hire_date</th>\n",
       "      <th>salary</th>\n",
       "    </tr>\n",
       "  </thead>\n",
       "  <tbody>\n",
       "    <tr>\n",
       "      <th>0</th>\n",
       "      <td>473302</td>\n",
       "      <td>s0001</td>\n",
       "      <td>1953-07-25</td>\n",
       "      <td>Hideyuki</td>\n",
       "      <td>Zallocco</td>\n",
       "      <td>M</td>\n",
       "      <td>1990-04-28</td>\n",
       "      <td>40000</td>\n",
       "    </tr>\n",
       "    <tr>\n",
       "      <th>1</th>\n",
       "      <td>475053</td>\n",
       "      <td>e0002</td>\n",
       "      <td>1954-11-18</td>\n",
       "      <td>Byong</td>\n",
       "      <td>Delgrande</td>\n",
       "      <td>F</td>\n",
       "      <td>1991-09-07</td>\n",
       "      <td>53422</td>\n",
       "    </tr>\n",
       "    <tr>\n",
       "      <th>2</th>\n",
       "      <td>57444</td>\n",
       "      <td>e0002</td>\n",
       "      <td>1958-01-30</td>\n",
       "      <td>Berry</td>\n",
       "      <td>Babb</td>\n",
       "      <td>F</td>\n",
       "      <td>1992-03-21</td>\n",
       "      <td>48973</td>\n",
       "    </tr>\n",
       "    <tr>\n",
       "      <th>3</th>\n",
       "      <td>421786</td>\n",
       "      <td>s0001</td>\n",
       "      <td>1957-09-28</td>\n",
       "      <td>Xiong</td>\n",
       "      <td>Verhoeff</td>\n",
       "      <td>M</td>\n",
       "      <td>1987-11-26</td>\n",
       "      <td>40000</td>\n",
       "    </tr>\n",
       "    <tr>\n",
       "      <th>4</th>\n",
       "      <td>282238</td>\n",
       "      <td>e0003</td>\n",
       "      <td>1952-10-28</td>\n",
       "      <td>Abdelkader</td>\n",
       "      <td>Baumann</td>\n",
       "      <td>F</td>\n",
       "      <td>1991-01-18</td>\n",
       "      <td>40000</td>\n",
       "    </tr>\n",
       "  </tbody>\n",
       "</table>\n",
       "</div>"
      ],
      "text/plain": [
       "   employee_number title_id  birth_date  first_name  last_name sex  \\\n",
       "0           473302    s0001  1953-07-25    Hideyuki   Zallocco   M   \n",
       "1           475053    e0002  1954-11-18       Byong  Delgrande   F   \n",
       "2            57444    e0002  1958-01-30       Berry       Babb   F   \n",
       "3           421786    s0001  1957-09-28       Xiong   Verhoeff   M   \n",
       "4           282238    e0003  1952-10-28  Abdelkader    Baumann   F   \n",
       "\n",
       "    hire_date  salary  \n",
       "0  1990-04-28   40000  \n",
       "1  1991-09-07   53422  \n",
       "2  1992-03-21   48973  \n",
       "3  1987-11-26   40000  \n",
       "4  1991-01-18   40000  "
      ]
     },
     "execution_count": 13,
     "metadata": {},
     "output_type": "execute_result"
    }
   ],
   "source": [
    "#merge employees and salary by employee_number\n",
    "emp_sal_df = pd.merge(Employees, Salary, on=\"employee_number\")\n",
    "emp_sal_df.head()"
   ]
  },
  {
   "cell_type": "code",
   "execution_count": 14,
   "metadata": {},
   "outputs": [
    {
     "data": {
      "text/html": [
       "<div>\n",
       "<style scoped>\n",
       "    .dataframe tbody tr th:only-of-type {\n",
       "        vertical-align: middle;\n",
       "    }\n",
       "\n",
       "    .dataframe tbody tr th {\n",
       "        vertical-align: top;\n",
       "    }\n",
       "\n",
       "    .dataframe thead th {\n",
       "        text-align: right;\n",
       "    }\n",
       "</style>\n",
       "<table border=\"1\" class=\"dataframe\">\n",
       "  <thead>\n",
       "    <tr style=\"text-align: right;\">\n",
       "      <th></th>\n",
       "      <th>employee_number</th>\n",
       "      <th>birth_date</th>\n",
       "      <th>first_name</th>\n",
       "      <th>last_name</th>\n",
       "      <th>sex</th>\n",
       "      <th>hire_date</th>\n",
       "      <th>salary</th>\n",
       "    </tr>\n",
       "    <tr>\n",
       "      <th>title_id</th>\n",
       "      <th></th>\n",
       "      <th></th>\n",
       "      <th></th>\n",
       "      <th></th>\n",
       "      <th></th>\n",
       "      <th></th>\n",
       "      <th></th>\n",
       "    </tr>\n",
       "  </thead>\n",
       "  <tbody>\n",
       "    <tr>\n",
       "      <th>e0001</th>\n",
       "      <td>5835</td>\n",
       "      <td>5835</td>\n",
       "      <td>5835</td>\n",
       "      <td>5835</td>\n",
       "      <td>5835</td>\n",
       "      <td>5835</td>\n",
       "      <td>5835</td>\n",
       "    </tr>\n",
       "    <tr>\n",
       "      <th>e0002</th>\n",
       "      <td>47303</td>\n",
       "      <td>47303</td>\n",
       "      <td>47303</td>\n",
       "      <td>47303</td>\n",
       "      <td>47303</td>\n",
       "      <td>47303</td>\n",
       "      <td>47303</td>\n",
       "    </tr>\n",
       "    <tr>\n",
       "      <th>e0003</th>\n",
       "      <td>97747</td>\n",
       "      <td>97747</td>\n",
       "      <td>97747</td>\n",
       "      <td>97747</td>\n",
       "      <td>97747</td>\n",
       "      <td>97747</td>\n",
       "      <td>97747</td>\n",
       "    </tr>\n",
       "    <tr>\n",
       "      <th>e0004</th>\n",
       "      <td>15148</td>\n",
       "      <td>15148</td>\n",
       "      <td>15148</td>\n",
       "      <td>15148</td>\n",
       "      <td>15148</td>\n",
       "      <td>15148</td>\n",
       "      <td>15148</td>\n",
       "    </tr>\n",
       "    <tr>\n",
       "      <th>m0001</th>\n",
       "      <td>24</td>\n",
       "      <td>24</td>\n",
       "      <td>24</td>\n",
       "      <td>24</td>\n",
       "      <td>24</td>\n",
       "      <td>24</td>\n",
       "      <td>24</td>\n",
       "    </tr>\n",
       "    <tr>\n",
       "      <th>s0001</th>\n",
       "      <td>107384</td>\n",
       "      <td>107384</td>\n",
       "      <td>107384</td>\n",
       "      <td>107384</td>\n",
       "      <td>107384</td>\n",
       "      <td>107384</td>\n",
       "      <td>107384</td>\n",
       "    </tr>\n",
       "    <tr>\n",
       "      <th>s0002</th>\n",
       "      <td>26583</td>\n",
       "      <td>26583</td>\n",
       "      <td>26583</td>\n",
       "      <td>26583</td>\n",
       "      <td>26583</td>\n",
       "      <td>26583</td>\n",
       "      <td>26583</td>\n",
       "    </tr>\n",
       "  </tbody>\n",
       "</table>\n",
       "</div>"
      ],
      "text/plain": [
       "          employee_number  birth_date  first_name  last_name     sex  \\\n",
       "title_id                                                               \n",
       "e0001                5835        5835        5835       5835    5835   \n",
       "e0002               47303       47303       47303      47303   47303   \n",
       "e0003               97747       97747       97747      97747   97747   \n",
       "e0004               15148       15148       15148      15148   15148   \n",
       "m0001                  24          24          24         24      24   \n",
       "s0001              107384      107384      107384     107384  107384   \n",
       "s0002               26583       26583       26583      26583   26583   \n",
       "\n",
       "          hire_date  salary  \n",
       "title_id                     \n",
       "e0001          5835    5835  \n",
       "e0002         47303   47303  \n",
       "e0003         97747   97747  \n",
       "e0004         15148   15148  \n",
       "m0001            24      24  \n",
       "s0001        107384  107384  \n",
       "s0002         26583   26583  "
      ]
     },
     "execution_count": 14,
     "metadata": {},
     "output_type": "execute_result"
    }
   ],
   "source": [
    "#group by title_id\n",
    "grouped_sal = emp_sal_df.groupby(['title_id'])\n",
    "grouped_sal.count().head(10)"
   ]
  },
  {
   "cell_type": "code",
   "execution_count": 15,
   "metadata": {},
   "outputs": [
    {
     "data": {
      "text/plain": [
       "title_id\n",
       "e0001    48564.43\n",
       "e0002    48535.34\n",
       "e0003    48506.80\n",
       "e0004    48582.90\n",
       "m0001    51531.04\n",
       "s0001    58465.38\n",
       "s0002    58550.17\n",
       "Name: salary, dtype: float64"
      ]
     },
     "execution_count": 15,
     "metadata": {},
     "output_type": "execute_result"
    }
   ],
   "source": [
    "#average the salary for each group title_id and rounded \n",
    "salary_average = round(grouped_sal[\"salary\"].mean(),2)\n",
    "salary_average"
   ]
  },
  {
   "cell_type": "code",
   "execution_count": 16,
   "metadata": {},
   "outputs": [
    {
     "data": {
      "text/html": [
       "<div>\n",
       "<style scoped>\n",
       "    .dataframe tbody tr th:only-of-type {\n",
       "        vertical-align: middle;\n",
       "    }\n",
       "\n",
       "    .dataframe tbody tr th {\n",
       "        vertical-align: top;\n",
       "    }\n",
       "\n",
       "    .dataframe thead th {\n",
       "        text-align: right;\n",
       "    }\n",
       "</style>\n",
       "<table border=\"1\" class=\"dataframe\">\n",
       "  <thead>\n",
       "    <tr style=\"text-align: right;\">\n",
       "      <th></th>\n",
       "      <th>Avg Salary</th>\n",
       "    </tr>\n",
       "    <tr>\n",
       "      <th>title_id</th>\n",
       "      <th></th>\n",
       "    </tr>\n",
       "  </thead>\n",
       "  <tbody>\n",
       "    <tr>\n",
       "      <th>e0001</th>\n",
       "      <td>48564.43</td>\n",
       "    </tr>\n",
       "    <tr>\n",
       "      <th>e0002</th>\n",
       "      <td>48535.34</td>\n",
       "    </tr>\n",
       "    <tr>\n",
       "      <th>e0003</th>\n",
       "      <td>48506.80</td>\n",
       "    </tr>\n",
       "    <tr>\n",
       "      <th>e0004</th>\n",
       "      <td>48582.90</td>\n",
       "    </tr>\n",
       "    <tr>\n",
       "      <th>m0001</th>\n",
       "      <td>51531.04</td>\n",
       "    </tr>\n",
       "    <tr>\n",
       "      <th>s0001</th>\n",
       "      <td>58465.38</td>\n",
       "    </tr>\n",
       "    <tr>\n",
       "      <th>s0002</th>\n",
       "      <td>58550.17</td>\n",
       "    </tr>\n",
       "  </tbody>\n",
       "</table>\n",
       "</div>"
      ],
      "text/plain": [
       "          Avg Salary\n",
       "title_id            \n",
       "e0001       48564.43\n",
       "e0002       48535.34\n",
       "e0003       48506.80\n",
       "e0004       48582.90\n",
       "m0001       51531.04\n",
       "s0001       58465.38\n",
       "s0002       58550.17"
      ]
     },
     "execution_count": 16,
     "metadata": {},
     "output_type": "execute_result"
    }
   ],
   "source": [
    "#make that a new data frame\n",
    "avg_salary_df = pd.DataFrame({\"Avg Salary\":salary_average})\n",
    "avg_salary_df"
   ]
  },
  {
   "cell_type": "code",
   "execution_count": 17,
   "metadata": {},
   "outputs": [
    {
     "data": {
      "text/html": [
       "<div>\n",
       "<style scoped>\n",
       "    .dataframe tbody tr th:only-of-type {\n",
       "        vertical-align: middle;\n",
       "    }\n",
       "\n",
       "    .dataframe tbody tr th {\n",
       "        vertical-align: top;\n",
       "    }\n",
       "\n",
       "    .dataframe thead th {\n",
       "        text-align: right;\n",
       "    }\n",
       "</style>\n",
       "<table border=\"1\" class=\"dataframe\">\n",
       "  <thead>\n",
       "    <tr style=\"text-align: right;\">\n",
       "      <th></th>\n",
       "      <th>title_id</th>\n",
       "      <th>Avg Salary</th>\n",
       "      <th>title</th>\n",
       "    </tr>\n",
       "  </thead>\n",
       "  <tbody>\n",
       "    <tr>\n",
       "      <th>0</th>\n",
       "      <td>e0001</td>\n",
       "      <td>48564.43</td>\n",
       "      <td>Assistant Engineer</td>\n",
       "    </tr>\n",
       "    <tr>\n",
       "      <th>1</th>\n",
       "      <td>e0002</td>\n",
       "      <td>48535.34</td>\n",
       "      <td>Engineer</td>\n",
       "    </tr>\n",
       "    <tr>\n",
       "      <th>2</th>\n",
       "      <td>e0003</td>\n",
       "      <td>48506.80</td>\n",
       "      <td>Senior Engineer</td>\n",
       "    </tr>\n",
       "    <tr>\n",
       "      <th>3</th>\n",
       "      <td>e0004</td>\n",
       "      <td>48582.90</td>\n",
       "      <td>Technique Leader</td>\n",
       "    </tr>\n",
       "    <tr>\n",
       "      <th>4</th>\n",
       "      <td>m0001</td>\n",
       "      <td>51531.04</td>\n",
       "      <td>Manager</td>\n",
       "    </tr>\n",
       "    <tr>\n",
       "      <th>5</th>\n",
       "      <td>s0001</td>\n",
       "      <td>58465.38</td>\n",
       "      <td>Staff</td>\n",
       "    </tr>\n",
       "    <tr>\n",
       "      <th>6</th>\n",
       "      <td>s0002</td>\n",
       "      <td>58550.17</td>\n",
       "      <td>Senior Staff</td>\n",
       "    </tr>\n",
       "  </tbody>\n",
       "</table>\n",
       "</div>"
      ],
      "text/plain": [
       "  title_id  Avg Salary               title\n",
       "0    e0001    48564.43  Assistant Engineer\n",
       "1    e0002    48535.34            Engineer\n",
       "2    e0003    48506.80     Senior Engineer\n",
       "3    e0004    48582.90    Technique Leader\n",
       "4    m0001    51531.04             Manager\n",
       "5    s0001    58465.38               Staff\n",
       "6    s0002    58550.17        Senior Staff"
      ]
     },
     "execution_count": 17,
     "metadata": {},
     "output_type": "execute_result"
    }
   ],
   "source": [
    "# merge new average salary dateframe with salary titles\n",
    "salary_title = pd.merge(avg_salary_df, Titles, on=\"title_id\")\n",
    "salary_title"
   ]
  },
  {
   "cell_type": "code",
   "execution_count": 18,
   "metadata": {},
   "outputs": [
    {
     "data": {
      "image/png": "[encoded data removed]",
      "text/plain": [
       "<Figure size 432x288 with 1 Axes>"
      ]
     },
     "metadata": {
      "needs_background": "light"
     },
     "output_type": "display_data"
    }
   ],
   "source": [
    "#plot bar graph for average salary by employee title\n",
    "title = salary_title[\"title\"]\n",
    "salary = salary_title[\"Avg Salary\"]\n",
    "fig, ax = plt.subplots()\n",
    "ax.set_title(\"Average Salary by Employee Title\")\n",
    "ax.set_xlabel(\"Average Salary\")\n",
    "ax.set_ylabel(\"Employee Title\")\n",
    "ax.barh(title, salary, facecolor=\"purple\", alpha=0.75, align=\"center\")\n",
    "fig.tight_layout()\n",
    "matplotlib.pyplot.savefig(\"Average_Salary_Title\")"
   ]
  },
  {
   "cell_type": "markdown",
   "metadata": {},
   "source": [
    "### Finding Employee with ID number 499942"
   ]
  },
  {
   "cell_type": "code",
   "execution_count": 19,
   "metadata": {},
   "outputs": [
    {
     "data": {
      "text/html": [
       "<div>\n",
       "<style scoped>\n",
       "    .dataframe tbody tr th:only-of-type {\n",
       "        vertical-align: middle;\n",
       "    }\n",
       "\n",
       "    .dataframe tbody tr th {\n",
       "        vertical-align: top;\n",
       "    }\n",
       "\n",
       "    .dataframe thead th {\n",
       "        text-align: right;\n",
       "    }\n",
       "</style>\n",
       "<table border=\"1\" class=\"dataframe\">\n",
       "  <thead>\n",
       "    <tr style=\"text-align: right;\">\n",
       "      <th></th>\n",
       "      <th>employee_number</th>\n",
       "      <th>title_id</th>\n",
       "      <th>birth_date</th>\n",
       "      <th>first_name</th>\n",
       "      <th>last_name</th>\n",
       "      <th>sex</th>\n",
       "      <th>hire_date</th>\n",
       "    </tr>\n",
       "  </thead>\n",
       "  <tbody>\n",
       "    <tr>\n",
       "      <th>168736</th>\n",
       "      <td>499942</td>\n",
       "      <td>e0004</td>\n",
       "      <td>1963-01-10</td>\n",
       "      <td>April</td>\n",
       "      <td>Foolsday</td>\n",
       "      <td>F</td>\n",
       "      <td>1997-02-10</td>\n",
       "    </tr>\n",
       "  </tbody>\n",
       "</table>\n",
       "</div>"
      ],
      "text/plain": [
       "        employee_number title_id  birth_date first_name last_name sex  \\\n",
       "168736           499942    e0004  1963-01-10      April  Foolsday   F   \n",
       "\n",
       "         hire_date  \n",
       "168736  1997-02-10  "
      ]
     },
     "execution_count": 19,
     "metadata": {},
     "output_type": "execute_result"
    }
   ],
   "source": [
    "#find employee with ID number 499942\n",
    "emp_499942 = Employees.loc[Employees[\"employee_number\"]==499942]\n",
    "emp_499942"
   ]
  }
 ],
 "metadata": {
  "kernelspec": {
   "display_name": "PythonAdv",
   "language": "python",
   "name": "pythonadv"
  },
  "language_info": {
   "codemirror_mode": {
    "name": "ipython",
    "version": 3
   },
   "file_extension": ".py",
   "mimetype": "text/x-python",
   "name": "python",
   "nbconvert_exporter": "python",
   "pygments_lexer": "ipython3",
   "version": "3.6.10"
  }
 },
 "nbformat": 4,
 "nbformat_minor": 4
}
